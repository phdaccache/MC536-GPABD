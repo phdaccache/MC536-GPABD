{
 "cells": [
  {
   "cell_type": "markdown",
   "metadata": {},
   "source": [
    "# Análise com SQL Avançado\n",
    "## U.S. EPA Food Commodity Intake Database (FCID)\n",
    "### [https://fcid.foodrisk.org/](https://fcid.foodrisk.org/)"
   ]
  },
  {
   "cell_type": "markdown",
   "metadata": {},
   "source": [
    "Ativando uma conexão de banco de dados em memória usando o SGBD H2:"
   ]
  },
  {
   "cell_type": "code",
   "execution_count": 1,
   "metadata": {},
   "outputs": [],
   "source": [
    "%defaultDatasource jdbc:h2:mem:db"
   ]
  },
  {
   "cell_type": "markdown",
   "metadata": {},
   "source": [
    "# Importando Tabelas do FCID"
   ]
  },
  {
   "cell_type": "code",
   "execution_count": 2,
   "metadata": {},
   "outputs": [],
   "source": [
    "DROP TABLE IF EXISTS Crop_Group;\n",
    "DROP TABLE IF EXISTS FCID_Description;\n",
    "DROP TABLE IF EXISTS Recipes;\n",
    "DROP TABLE IF EXISTS Intake;\n",
    "\n",
    "CREATE TABLE Crop_Group (\n",
    "  CGN VARCHAR(2),\n",
    "  CGL VARCHAR(6),\n",
    "  Crop_Group_Description VARCHAR(80),\n",
    "  PRIMARY KEY (CGL)\n",
    ") AS SELECT\n",
    "  CGN, CGL, Crop_Group_Description\n",
    "FROM CSVREAD('../../data/food-intake/basics/FCID_Cropgroup_Description.csv');\n",
    "\n",
    "CREATE TABLE FCID_Description (\n",
    "  CGN VARCHAR(2),\n",
    "  CG_Subgroup VARCHAR(6),\n",
    "  FCID_Code VARCHAR(10),\n",
    "  FCID_Desc VARCHAR(55),\n",
    "  PRIMARY KEY (FCID_Code),\n",
    ") AS SELECT\n",
    "  cgn, CG_Subgroup, FCID_Code, FCID_Desc\n",
    "FROM CSVREAD('../../data/food-intake/basics/FCID_Code_Description.csv');\n",
    "\n",
    "CREATE TABLE Recipes (\n",
    "  Food_Code VARCHAR(8),\n",
    "  Mod_Code VARCHAR(8),\n",
    "  Ingredient_Num TINYINT,\n",
    "  FCID_Code VARCHAR(10),\n",
    "  Cooked_Status TINYINT,\n",
    "  Food_Form TINYINT,\n",
    "  Cooking_Method TINYINT,\n",
    "  Commodity_Weight DECIMAL(5, 2),\n",
    "  CSFII_9498_IND TINYINT,\n",
    "  WWEIA_9904_IND TINYINT,\n",
    "  WWEIA_0510_IND TINYINT,\n",
    "  PRIMARY KEY(Food_Code, Mod_Code, Ingredient_Num),\n",
    "  FOREIGN KEY(FCID_Code)\n",
    "    REFERENCES FCID_Description(FCID_Code)\n",
    "      ON DELETE NO ACTION\n",
    "      ON UPDATE NO ACTION\n",
    ") AS SELECT\n",
    "  Food_Code, Mod_Code, Ingredient_Num, FCID_Code, Cooked_Status, Food_Form, Cooking_Method,\n",
    "  Commodity_Weight, CSFII_9498_IND, WWEIA_9904_IND, WWEIA_0510_IND\n",
    "FROM CSVREAD('../../data/food-intake/recipes/Recipes_WWEIA_FCID_0510.csv');\n",
    "\n",
    "CREATE TABLE Intake (\n",
    "  SeqN INTEGER NOT NULL,\n",
    "  DayCode TINYINT NOT NULL,\n",
    "  DraBF TINYINT,\n",
    "  FCID_Code VARCHAR(10),\n",
    "  Cooked_Status TINYINT,\n",
    "  Food_Form TINYINT,\n",
    "  Cooking_Method TINYINT,\n",
    "  Intake DECIMAL(13,7),\n",
    "  Intake_BW DECIMAL(13,10),\n",
    "  PRIMARY KEY(SeqN, DayCode, FCID_Code, Cooked_Status, Food_Form, Cooking_Method),\n",
    "  FOREIGN KEY(FCID_Code)\n",
    "    REFERENCES FCID_Description(FCID_Code)\n",
    "      ON DELETE NO ACTION\n",
    "      ON UPDATE NO ACTION\n",
    ") AS SELECT\n",
    "  SEQN, DAYCODE, DRABF, FCID_Code, Cooked_Status, Food_Form, Cooking_Method, Intake,Intake_BW\n",
    "FROM CSVREAD('../../data/food-intake/consumption/Commodity_CSFFM_Intake_0510-cropped.csv');"
   ]
  },
  {
   "cell_type": "markdown",
   "metadata": {},
   "source": [
    "# Visualizando as Tabelas"
   ]
  },
  {
   "cell_type": "code",
   "execution_count": 3,
   "metadata": {},
   "outputs": [
    {
     "data": {
      "application/vnd.jupyter.widget-view+json": {
       "model_id": "1c0f3af5-c1c6-481a-964e-848b004fa477",
       "version_major": 2,
       "version_minor": 0
      },
      "method": "display_data"
     },
     "metadata": {},
     "output_type": "display_data"
    }
   ],
   "source": [
    "SELECT * FROM Crop_Group LIMIT 10;"
   ]
  },
  {
   "cell_type": "code",
   "execution_count": 4,
   "metadata": {},
   "outputs": [
    {
     "data": {
      "application/vnd.jupyter.widget-view+json": {
       "model_id": "94e6b408-f8c5-4157-a3a9-31a0843a925e",
       "version_major": 2,
       "version_minor": 0
      },
      "method": "display_data"
     },
     "metadata": {},
     "output_type": "display_data"
    }
   ],
   "source": [
    "SELECT * FROM FCID_Description LIMIT 10;"
   ]
  },
  {
   "cell_type": "code",
   "execution_count": 5,
   "metadata": {},
   "outputs": [
    {
     "data": {
      "application/vnd.jupyter.widget-view+json": {
       "model_id": "999efdc3-620b-49eb-94d0-cc0af73c168f",
       "version_major": 2,
       "version_minor": 0
      },
      "method": "display_data"
     },
     "metadata": {},
     "output_type": "display_data"
    }
   ],
   "source": [
    "SELECT * FROM Recipes LIMIT 10;"
   ]
  },
  {
   "cell_type": "code",
   "execution_count": 6,
   "metadata": {
    "scrolled": true
   },
   "outputs": [
    {
     "data": {
      "application/vnd.jupyter.widget-view+json": {
       "model_id": "d39e6fe7-9fa7-4c72-b563-8ecf852b3e3f",
       "version_major": 2,
       "version_minor": 0
      },
      "method": "display_data"
     },
     "metadata": {},
     "output_type": "display_data"
    }
   ],
   "source": [
    "SELECT * FROM Intake LIMIT 10;"
   ]
  },
  {
   "cell_type": "markdown",
   "metadata": {},
   "source": [
    "# Métricas\n",
    "\n",
    "Considere que a tabela Intake registra alimentos consumidos por 1.489 pessoas. Considere as seguintes métricas para um alimento:\n",
    "\n",
    "| Métrica | Descrição |\n",
    "| --- | --- |\n",
    "| Popularidade | número de pessoas (dentre as 1.489) que consumiram o alimento |\n",
    "| Intake_Sum | total consumido do alimento pelas 1.489 pessoas em gramas |\n",
    "| Intake_AVG | média de consumo do alimento em gramas |\n",
    "| Intake_AVG_BW | média de consumo do alimento x peso da pessoa |\n",
    "| Recipes | número de receitas (dentre as 7.154 receitas) que têm o produto como ingrediente |"
   ]
  },
  {
   "cell_type": "markdown",
   "metadata": {},
   "source": [
    "## 1)  Construa uma View que apresente essas métricas por produto\n",
    "\n",
    "* Veja exemplo em: `/data/food-intake/computed/commodity-profile.csv`\n",
    "* Importante: esta tabela foi feita com um número maior de registros, portanto os valores não serão iguais aos seus"
   ]
  },
  {
   "cell_type": "code",
   "execution_count": 7,
   "metadata": {},
   "outputs": [],
   "source": [
    "DROP VIEW IF EXISTS MetricasFinais;\n",
    "DROP VIEW IF EXISTS MetricasAlimentos;\n",
    "DROP VIEW IF EXISTS ReceitasIngredientes;\n",
    "\n",
    "-- Metricas relacionadas ao consumo e às quantidades\n",
    "CREATE VIEW MetricasAlimentos AS\n",
    "    SELECT FCID_CODE, COUNT(*) POPULARITY, SUM(Consumption) INTAKE_SUM,\n",
    "           SUM(Consumption) / SUM(TimesConsumed) INTAKE_AVG,\n",
    "           SUM(ConsumptionBW) / SUM(TimesConsumed) INTAKE_BW_AVG\n",
    "    FROM\n",
    "        (SELECT FCID_CODE, SeqN, SUM(Intake) Consumption, SUM(Intake_BW) ConsumptionBW, COUNT(*) TimesConsumed\n",
    "         FROM Intake\n",
    "         GROUP BY FCID_CODE, SeqN) Alimento\n",
    "    GROUP BY FCID_CODE;\n",
    "\n",
    "-- Quantidade de vezes que cada ingrediente aparece em cada receita\n",
    "CREATE VIEW ReceitasIngredientes AS\n",
    "    SELECT FCID_Code, COUNT(*) RECIPES\n",
    "    FROM\n",
    "        (SELECT FCID_Code\n",
    "        FROM Recipes\n",
    "        GROUP BY FCID_Code, Food_Code, Mod_Code) Receitas\n",
    "    GROUP BY FCID_Code;\n",
    "\n",
    "-- VIEW final, incluindo dados sobre alimentos e métricas (resposta da questão)\n",
    "CREATE VIEW MetricasFinais AS\n",
    "    SELECT F.FCID_CODE, F.FCID_DESC, F.CGN, F.CG_SUBGROUP,\n",
    "           MA.POPULARITY, MA.INTAKE_SUM, MA.INTAKE_AVG, MA.INTAKE_BW_AVG,\n",
    "           RI.RECIPES\n",
    "    FROM FCID_Description F, MetricasAlimentos MA, ReceitasIngredientes RI\n",
    "    WHERE F.FCID_Code = MA.FCID_Code AND F.FCID_Code = RI.FCID_Code;"
   ]
  },
  {
   "cell_type": "code",
   "execution_count": 8,
   "metadata": {},
   "outputs": [
    {
     "data": {
      "application/vnd.jupyter.widget-view+json": {
       "model_id": "66861f4e-6271-40a1-8192-6f015dbbf029",
       "version_major": 2,
       "version_minor": 0
      },
      "method": "display_data"
     },
     "metadata": {},
     "output_type": "display_data"
    }
   ],
   "source": [
    "-- Metricas relacionadas ao consumo e às quantidades\n",
    "SELECT * FROM MetricasAlimentos ORDER BY POPULARITY DESC LIMIT 10;"
   ]
  },
  {
   "cell_type": "code",
   "execution_count": 9,
   "metadata": {},
   "outputs": [
    {
     "data": {
      "application/vnd.jupyter.widget-view+json": {
       "model_id": "ace6b645-170b-4813-8dd6-6f19d0d3062a",
       "version_major": 2,
       "version_minor": 0
      },
      "method": "display_data"
     },
     "metadata": {},
     "output_type": "display_data"
    }
   ],
   "source": [
    "-- Quantidade de vezes que cada ingrediente aparece em cada receita\n",
    "SELECT * FROM ReceitasIngredientes ORDER BY RECIPES DESC LIMIT 10;"
   ]
  },
  {
   "cell_type": "code",
   "execution_count": 10,
   "metadata": {},
   "outputs": [
    {
     "data": {
      "application/vnd.jupyter.widget-view+json": {
       "model_id": "3ebfbaae-0c27-42c6-bc69-3e67b0eaa0ee",
       "version_major": 2,
       "version_minor": 0
      },
      "method": "display_data"
     },
     "metadata": {},
     "output_type": "display_data"
    }
   ],
   "source": [
    "-- VIEW final, incluindo dados sobre alimentos e métricas (resposta da questão)\n",
    "SELECT * FROM MetricasFinais ORDER BY POPULARITY DESC, FCID_CODE LIMIT 10;"
   ]
  },
  {
   "cell_type": "markdown",
   "metadata": {},
   "source": [
    "## 2) Como você analisaria a correlação entre as métricas?\n",
    "\n",
    "* Por exemplo, produtos mais populares são mais consumidos (em número de pessoas ou em quantidade)?\n",
    "* Proponha uma ou mais queries para fazer esta análise"
   ]
  },
  {
   "cell_type": "code",
   "execution_count": 11,
   "metadata": {},
   "outputs": [],
   "source": [
    "-- Uma análise que pensamos entre as métricas é \"Os alimentos mais populares são os que mais aparecem em receitas?\"\n",
    "-- Para respondermos a essa pergunta, pensamos em normalizar os dados de popularidade e de número de receitas para cada alimento\n",
    "-- Para fazer essa normalização, basta dividir o valor máximo pelo valor do alimento e multiplicar por 100. O resultado\n",
    "-- é a porcentagem do valor do alimento em relação ao valor máximo\n",
    "\n",
    "-- Criando uma view nova para representar os dados\n",
    "DROP VIEW IF EXISTS PopularidadeReceitas;\n",
    "\n",
    "CREATE VIEW PopularidadeReceitas AS \n",
    "    SELECT FCID_CODE, FCID_DESC, \n",
    "           100.0 * POPULARITY / (SELECT MAX(POPULARITY) FROM MetricasFinais) POPULARITY, \n",
    "           100.0 * RECIPES / (SELECT MAX(RECIPES) FROM MetricasFinais) RECIPES\n",
    "    FROM MetricasFinais;"
   ]
  },
  {
   "cell_type": "code",
   "execution_count": 12,
   "metadata": {},
   "outputs": [
    {
     "data": {
      "application/vnd.jupyter.widget-view+json": {
       "model_id": "3e8deac0-af61-4e39-964c-2d4423880b86",
       "version_major": 2,
       "version_minor": 0
      },
      "method": "display_data"
     },
     "metadata": {},
     "output_type": "display_data"
    }
   ],
   "source": [
    "-- Visualizando os dados\n",
    "SELECT * FROM PopularidadeReceitas LIMIT 10;"
   ]
  },
  {
   "cell_type": "code",
   "execution_count": 13,
   "metadata": {},
   "outputs": [
    {
     "data": {
      "application/vnd.jupyter.widget-view+json": {
       "model_id": "a5a3052f-a674-4d7f-a010-799ea650ed92",
       "version_major": 2,
       "version_minor": 0
      },
      "method": "display_data"
     },
     "metadata": {},
     "output_type": "display_data"
    }
   ],
   "source": [
    "-- Com esses dados, é possível analisar os alimentos com maior diferença entre popularidade e receitas\n",
    "SELECT *, ABS(POPULARITY - RECIPES) DIFFERENCE\n",
    "    FROM PopularidadeReceitas\n",
    "    GROUP BY FCID_CODE, FCID_DESC\n",
    "    ORDER BY DIFFERENCE DESC\n",
    "    LIMIT 10;"
   ]
  },
  {
   "cell_type": "code",
   "execution_count": 14,
   "metadata": {},
   "outputs": [
    {
     "data": {
      "application/vnd.jupyter.widget-view+json": {
       "model_id": "980865b3-3b7d-46b9-8ab4-468f61be38ba",
       "version_major": 2,
       "version_minor": 0
      },
      "method": "display_data"
     },
     "metadata": {},
     "output_type": "display_data"
    }
   ],
   "source": [
    "-- E também os com menor diferença - basta alterar o critério de ordenação\n",
    "SELECT *, ABS(POPULARITY - RECIPES) DIFFERENCE\n",
    "    FROM PopularidadeReceitas\n",
    "    GROUP BY FCID_CODE, FCID_DESC\n",
    "    ORDER BY DIFFERENCE\n",
    "    LIMIT 10;"
   ]
  },
  {
   "cell_type": "markdown",
   "metadata": {},
   "source": [
    "## 3) Podemos criar grupos de consumidores conforme um perfil?\n",
    "* por exemplo, consumidores podem ser agrupados por alimentos que comem predominantemente?\n",
    "* como você associaria grupos a classes?"
   ]
  },
  {
   "cell_type": "code",
   "execution_count": 15,
   "metadata": {},
   "outputs": [],
   "source": [
    "-- Podemos agrupar os consumidores com base na variedade de alimentos consumidos.\n",
    "-- Para cada consumidor diferente, podemos determinar quantos alimentos diferentes foram consumidos por ele.\n",
    "-- Segundo a nutricionista Steph Geddes, no blog https://www.bodygoodfood.com.au/full-blog/2018/6/19/how-many-foods-should-we-eat-in-a-day\n",
    "-- uma dieta saudável deve conter de 20 a 30 alimentos diferentes por dia, em média.\n",
    "-- Assim, como os dados correspondem a dois dias diferentes, podemos separar os consumidores em 3 classes distintas:\n",
    "--   Classe 1: até 40 alimentos diferentes consumidos\n",
    "--   Classe 2: de 40 até 60 alimentos diferentes consumidos\n",
    "--   Classe 3: 60 ou mais alimentos diferentes consumidos\n",
    "\n",
    "-- Criando uma VIEW com os alimentos distintos consumidos\n",
    "DROP VIEW IF EXISTS PerfilConsumo;\n",
    "\n",
    "CREATE VIEW PerfilConsumo AS\n",
    "    SELECT SEQN, COUNT(DISTINCT FCID_CODE) VARIEDADE\n",
    "        FROM Intake\n",
    "        GROUP BY SEQN;"
   ]
  },
  {
   "cell_type": "code",
   "execution_count": 16,
   "metadata": {},
   "outputs": [
    {
     "data": {
      "application/vnd.jupyter.widget-view+json": {
       "model_id": "26bf4cca-a520-46d0-961a-b675812a2abb",
       "version_major": 2,
       "version_minor": 0
      },
      "method": "display_data"
     },
     "metadata": {},
     "output_type": "display_data"
    }
   ],
   "source": [
    "-- Pessoas que pertencem à classe 1 (abaixo do recomendado):\n",
    "SELECT * FROM PerfilConsumo WHERE VARIEDADE < 40 LIMIT 10;\n",
    "\n",
    "-- Tamanho da classe: 395\n",
    "-- SELECT COUNT(*) FROM PerfilConsumo WHERE VARIEDADE < 40;"
   ]
  },
  {
   "cell_type": "code",
   "execution_count": 17,
   "metadata": {},
   "outputs": [
    {
     "data": {
      "application/vnd.jupyter.widget-view+json": {
       "model_id": "385a5a8a-72d6-4ddc-8edc-2db6125fb046",
       "version_major": 2,
       "version_minor": 0
      },
      "method": "display_data"
     },
     "metadata": {},
     "output_type": "display_data"
    }
   ],
   "source": [
    "-- Pessoas que pertencem à classe 2 (dentro do recomendado):\n",
    "SELECT * FROM PerfilConsumo WHERE VARIEDADE >= 40 AND VARIEDADE <= 60 LIMIT 10;\n",
    "\n",
    "-- Tamanho da classe: 689\n",
    "-- SELECT COUNT(*) FROM PerfilConsumo WHERE VARIEDADE >= 40 AND VARIEDADE <= 60;"
   ]
  },
  {
   "cell_type": "code",
   "execution_count": 18,
   "metadata": {},
   "outputs": [
    {
     "data": {
      "application/vnd.jupyter.widget-view+json": {
       "model_id": "94dae851-4b72-46f9-9d98-b4ac468cdd7f",
       "version_major": 2,
       "version_minor": 0
      },
      "method": "display_data"
     },
     "metadata": {},
     "output_type": "display_data"
    }
   ],
   "source": [
    "-- Pessoas que pertencem à classe 3 (acima do recomendado):\n",
    "SELECT * FROM PerfilConsumo WHERE VARIEDADE > 60 LIMIT 10;\n",
    "\n",
    "-- Tamanho da classe: 405\n",
    "-- SELECT COUNT(*) FROM PerfilConsumo WHERE VARIEDADE > 60;"
   ]
  },
  {
   "cell_type": "markdown",
   "metadata": {},
   "source": [
    "## 4) Que métricas podem ser analisadas para a comparação de perfis?\n",
    "* escreva uma query SQL que calcule pelo menos uma métrica comparativa"
   ]
  },
  {
   "cell_type": "code",
   "execution_count": 19,
   "metadata": {},
   "outputs": [],
   "source": [
    "-- A partir do perfil da questão anterior, uma métrica possível que pode ser analisada é a média, em gramas, do consumido por uma pessoa\n",
    "-- Com esses dados, é possível analisar se há uma correlação, ou não, da quantidade consumida e da variedade consumida\n",
    "\n",
    "-- Criando uma VIEW para representar a métrica\n",
    "DROP VIEW IF EXISTS PerfilConsumoComQuantidade;\n",
    "\n",
    "CREATE VIEW PerfilConsumoComQuantidade AS\n",
    "    SELECT PC.SEQN, PC.VARIEDADE, SUM(I.Intake) QUANTIDADE\n",
    "    FROM PerfilConsumo PC, Intake I\n",
    "    WHERE PC.SEQN = I.SEQN\n",
    "    GROUP BY PC.SEQN;"
   ]
  },
  {
   "cell_type": "code",
   "execution_count": 20,
   "metadata": {},
   "outputs": [
    {
     "data": {
      "application/vnd.jupyter.widget-view+json": {
       "model_id": "b719e07c-c16b-4954-b589-ff17b005e613",
       "version_major": 2,
       "version_minor": 0
      },
      "method": "display_data"
     },
     "metadata": {},
     "output_type": "display_data"
    }
   ],
   "source": [
    "-- Visualizando alguns dados\n",
    "SELECT * FROM PerfilConsumoComQuantidade LIMIT 10;"
   ]
  },
  {
   "cell_type": "code",
   "execution_count": 21,
   "metadata": {},
   "outputs": [
    {
     "data": {
      "application/vnd.jupyter.widget-view+json": {
       "model_id": "fb880e44-5296-41f3-bf2b-ba163567e747",
       "version_major": 2,
       "version_minor": 0
      },
      "method": "display_data"
     },
     "metadata": {},
     "output_type": "display_data"
    },
    {
     "data": {
      "application/vnd.jupyter.widget-view+json": {
       "model_id": "372d7ab8-61e9-43ff-82b7-e0623090483f",
       "version_major": 2,
       "version_minor": 0
      },
      "method": "display_data"
     },
     "metadata": {},
     "output_type": "display_data"
    },
    {
     "data": {
      "application/vnd.jupyter.widget-view+json": {
       "model_id": "7d09f9a9-5a04-42bf-b447-c39af33bb544",
       "version_major": 2,
       "version_minor": 0
      },
      "method": "display_data"
     },
     "metadata": {},
     "output_type": "display_data"
    }
   ],
   "source": [
    "-- Uma primeira análise possível é em relação aos grupos\n",
    "-- Para a classe 1 (abaixo do recomendado), a média de quantidade consumida é de 1785.67g\n",
    "SELECT SUM(QUANTIDADE) / (SELECT COUNT(*) FROM PerfilConsumoComQuantidade WHERE VARIEDADE < 40)\n",
    "    FROM PerfilConsumoComQuantidade\n",
    "    WHERE VARIEDADE < 40;\n",
    "    \n",
    "-- Para a classe 2 (dentro do recomendado), a média de quantidade consumida é de 2230.88g\n",
    "SELECT SUM(QUANTIDADE) / (SELECT COUNT(*) FROM PerfilConsumoComQuantidade WHERE VARIEDADE >= 40 AND VARIEDADE <= 60)\n",
    "    FROM PerfilConsumoComQuantidade\n",
    "    WHERE VARIEDADE >= 40 AND VARIEDADE <= 60;\n",
    "    \n",
    "-- Para a classe 3 (acima do recomendado), a média de quantidade consumida é de 2424.72g\n",
    "SELECT SUM(QUANTIDADE) / (SELECT COUNT(*) FROM PerfilConsumoComQuantidade WHERE VARIEDADE > 60)\n",
    "    FROM PerfilConsumoComQuantidade\n",
    "    WHERE VARIEDADE > 60;\n",
    "    \n",
    "-- A partir desses dados, temos que a variedade de alimentos consumidos e a quantidade consumida está, em geral, relacionada\n",
    "-- O grupo com maior variedade é também o grupo com maior quantidade média consumida"
   ]
  },
  {
   "cell_type": "code",
   "execution_count": 22,
   "metadata": {},
   "outputs": [],
   "source": [
    "-- Outra análise possível é similar à questão 2. Podemos normalizar a variedade e a quantidade e analisar.\n",
    "DROP VIEW IF EXISTS VariedadeQuantidade;\n",
    "\n",
    "CREATE VIEW VariedadeQuantidade AS \n",
    "    SELECT SEQN,\n",
    "           100.0 * VARIEDADE / (SELECT MAX(VARIEDADE) FROM PerfilConsumoComQuantidade) VARIEDADE, \n",
    "           100.0 * QUANTIDADE / (SELECT MAX(QUANTIDADE) FROM PerfilConsumoComQuantidade) QUANTIDADE\n",
    "    FROM PerfilConsumoComQuantidade;"
   ]
  },
  {
   "cell_type": "code",
   "execution_count": 23,
   "metadata": {},
   "outputs": [
    {
     "data": {
      "application/vnd.jupyter.widget-view+json": {
       "model_id": "fb7f6980-36b6-4dd6-8f81-53d4126c4ee6",
       "version_major": 2,
       "version_minor": 0
      },
      "method": "display_data"
     },
     "metadata": {},
     "output_type": "display_data"
    }
   ],
   "source": [
    "-- Visualizando os dados\n",
    "SELECT * FROM VariedadeQuantidade LIMIT 10;"
   ]
  },
  {
   "cell_type": "code",
   "execution_count": 24,
   "metadata": {},
   "outputs": [
    {
     "data": {
      "application/vnd.jupyter.widget-view+json": {
       "model_id": "2b651889-895e-4346-a4f7-cfd7d03341cf",
       "version_major": 2,
       "version_minor": 0
      },
      "method": "display_data"
     },
     "metadata": {},
     "output_type": "display_data"
    }
   ],
   "source": [
    "-- Pessoas com maior disparidade entre quantidade consumida e variedade\n",
    "SELECT *, ABS(VARIEDADE - QUANTIDADE) DIFFERENCE\n",
    "    FROM VariedadeQuantidade\n",
    "    GROUP BY SEQN\n",
    "    ORDER BY DIFFERENCE DESC\n",
    "    LIMIT 10;"
   ]
  },
  {
   "cell_type": "code",
   "execution_count": 25,
   "metadata": {},
   "outputs": [
    {
     "data": {
      "application/vnd.jupyter.widget-view+json": {
       "model_id": "477ab21a-bb66-4521-9e64-fb128167cec8",
       "version_major": 2,
       "version_minor": 0
      },
      "method": "display_data"
     },
     "metadata": {},
     "output_type": "display_data"
    }
   ],
   "source": [
    "-- Pessoas com menor disparidade entre quantidade consumida e variedade\n",
    "SELECT *, ABS(VARIEDADE - QUANTIDADE) DIFFERENCE\n",
    "    FROM VariedadeQuantidade\n",
    "    GROUP BY SEQN\n",
    "    ORDER BY DIFFERENCE\n",
    "    LIMIT 10;"
   ]
  }
 ],
 "metadata": {
  "kernelspec": {
   "display_name": "SQL",
   "language": "SQL",
   "name": "sql"
  },
  "language_info": {
   "codemirror_mode": "sql",
   "file_extension": ".sql",
   "mimetype": "",
   "name": "SQL",
   "nbconverter_exporter": "",
   "version": ""
  },
  "toc": {
   "base_numbering": 1,
   "nav_menu": {},
   "number_sections": false,
   "sideBar": false,
   "skip_h1_title": false,
   "title_cell": "Table of Contents",
   "title_sidebar": "Contents",
   "toc_cell": false,
   "toc_position": {},
   "toc_section_display": false,
   "toc_window_display": false
  }
 },
 "nbformat": 4,
 "nbformat_minor": 2
}
